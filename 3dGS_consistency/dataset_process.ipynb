{
 "cells": [
  {
   "cell_type": "markdown",
   "metadata": {},
   "source": [
    "## 数据集构建和处理"
   ]
  },
  {
   "cell_type": "code",
   "execution_count": null,
   "metadata": {},
   "outputs": [],
   "source": [
    "import os\n",
    "import shutil\n",
    "\n",
    "pbr_train_path=\"/home/jiahao/GS-IR/datasets/TensoIR/lego/lego_rendering_bridge/ours_cubemap_singlelight_train\"\n",
    "pbr_test_path=\"/home/jiahao/GS-IR/datasets/TensoIR/lego/lego_rendering_bridge/ours_cubemap_singlelight_test\"\n",
    "dest_path=\"/home/jiahao/GS-IR/datasets/TensoIR/lego\"\n",
    "# 复制并重命名训练集图片\n",
    "for i in range(100):\n",
    "    src_file = os.path.join(pbr_train_path, f\"{i:05d}_bridge.png\")\n",
    "    dest_folder = os.path.join(dest_path, f\"train_{i:03d}\")\n",
    "    os.makedirs(dest_folder, exist_ok=True)\n",
    "    dest_file = os.path.join(dest_folder, \"pbr_bridge.png\")\n",
    "    shutil.copy(src_file, dest_file)\n",
    "\n",
    "# 复制并重命名测试集图片\n",
    "for i in range(200):\n",
    "    src_file = os.path.join(pbr_test_path, f\"{i:05d}_bridge.png\")\n",
    "    dest_folder = os.path.join(dest_path, f\"test_{i:03d}\")\n",
    "    os.makedirs(dest_folder, exist_ok=True)\n",
    "    dest_file = os.path.join(dest_folder, \"pbr_bridge.png\")\n",
    "    shutil.copy(src_file, dest_file)"
   ]
  }
 ],
 "metadata": {
  "kernelspec": {
   "display_name": "gsir",
   "language": "python",
   "name": "python3"
  },
  "language_info": {
   "name": "python",
   "version": "3.9.21"
  }
 },
 "nbformat": 4,
 "nbformat_minor": 2
}
