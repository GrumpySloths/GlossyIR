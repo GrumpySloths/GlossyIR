{
 "cells": [
  {
   "cell_type": "code",
   "execution_count": 9,
   "metadata": {},
   "outputs": [
    {
     "name": "stdout",
     "output_type": "stream",
     "text": [
      "(PlyElement('vertex', (PlyProperty('x', 'float'), PlyProperty('y', 'float'), PlyProperty('z', 'float'), PlyProperty('nx', 'float'), PlyProperty('ny', 'float'), PlyProperty('nz', 'float'), PlyProperty('f_offset_0', 'float'), PlyProperty('f_offset_1', 'float'), PlyProperty('f_offset_2', 'float'), PlyProperty('f_offset_3', 'float'), PlyProperty('f_offset_4', 'float'), PlyProperty('f_offset_5', 'float'), PlyProperty('f_offset_6', 'float'), PlyProperty('f_offset_7', 'float'), PlyProperty('f_offset_8', 'float'), PlyProperty('f_offset_9', 'float'), PlyProperty('f_offset_10', 'float'), PlyProperty('f_offset_11', 'float'), PlyProperty('f_offset_12', 'float'), PlyProperty('f_offset_13', 'float'), PlyProperty('f_offset_14', 'float'), PlyProperty('f_anchor_feat_0', 'float'), PlyProperty('f_anchor_feat_1', 'float'), PlyProperty('f_anchor_feat_2', 'float'), PlyProperty('f_anchor_feat_3', 'float'), PlyProperty('f_anchor_feat_4', 'float'), PlyProperty('f_anchor_feat_5', 'float'), PlyProperty('f_anchor_feat_6', 'float'), PlyProperty('f_anchor_feat_7', 'float'), PlyProperty('f_anchor_feat_8', 'float'), PlyProperty('f_anchor_feat_9', 'float'), PlyProperty('f_anchor_feat_10', 'float'), PlyProperty('f_anchor_feat_11', 'float'), PlyProperty('f_anchor_feat_12', 'float'), PlyProperty('f_anchor_feat_13', 'float'), PlyProperty('f_anchor_feat_14', 'float'), PlyProperty('f_anchor_feat_15', 'float'), PlyProperty('f_anchor_feat_16', 'float'), PlyProperty('f_anchor_feat_17', 'float'), PlyProperty('f_anchor_feat_18', 'float'), PlyProperty('f_anchor_feat_19', 'float'), PlyProperty('f_anchor_feat_20', 'float'), PlyProperty('f_anchor_feat_21', 'float'), PlyProperty('f_anchor_feat_22', 'float'), PlyProperty('f_anchor_feat_23', 'float'), PlyProperty('f_anchor_feat_24', 'float'), PlyProperty('f_anchor_feat_25', 'float'), PlyProperty('f_anchor_feat_26', 'float'), PlyProperty('f_anchor_feat_27', 'float'), PlyProperty('f_anchor_feat_28', 'float'), PlyProperty('f_anchor_feat_29', 'float'), PlyProperty('f_anchor_feat_30', 'float'), PlyProperty('f_anchor_feat_31', 'float'), PlyProperty('f_anchor_pbr_feat_0', 'float'), PlyProperty('f_anchor_pbr_feat_1', 'float'), PlyProperty('f_anchor_pbr_feat_2', 'float'), PlyProperty('f_anchor_pbr_feat_3', 'float'), PlyProperty('f_anchor_pbr_feat_4', 'float'), PlyProperty('f_anchor_pbr_feat_5', 'float'), PlyProperty('f_anchor_pbr_feat_6', 'float'), PlyProperty('f_anchor_pbr_feat_7', 'float'), PlyProperty('f_anchor_pbr_feat_8', 'float'), PlyProperty('f_anchor_pbr_feat_9', 'float'), PlyProperty('f_anchor_pbr_feat_10', 'float'), PlyProperty('f_anchor_pbr_feat_11', 'float'), PlyProperty('f_anchor_pbr_feat_12', 'float'), PlyProperty('f_anchor_pbr_feat_13', 'float'), PlyProperty('f_anchor_pbr_feat_14', 'float'), PlyProperty('f_anchor_pbr_feat_15', 'float'), PlyProperty('f_anchor_pbr_feat_16', 'float'), PlyProperty('f_anchor_pbr_feat_17', 'float'), PlyProperty('f_anchor_pbr_feat_18', 'float'), PlyProperty('f_anchor_pbr_feat_19', 'float'), PlyProperty('f_anchor_pbr_feat_20', 'float'), PlyProperty('f_anchor_pbr_feat_21', 'float'), PlyProperty('f_anchor_pbr_feat_22', 'float'), PlyProperty('f_anchor_pbr_feat_23', 'float'), PlyProperty('f_anchor_pbr_feat_24', 'float'), PlyProperty('f_anchor_pbr_feat_25', 'float'), PlyProperty('f_anchor_pbr_feat_26', 'float'), PlyProperty('f_anchor_pbr_feat_27', 'float'), PlyProperty('f_anchor_pbr_feat_28', 'float'), PlyProperty('f_anchor_pbr_feat_29', 'float'), PlyProperty('f_anchor_pbr_feat_30', 'float'), PlyProperty('f_anchor_pbr_feat_31', 'float'), PlyProperty('opacity', 'float'), PlyProperty('scale_0', 'float'), PlyProperty('scale_1', 'float'), PlyProperty('scale_2', 'float'), PlyProperty('scale_3', 'float'), PlyProperty('scale_4', 'float'), PlyProperty('scale_5', 'float'), PlyProperty('rot_0', 'float'), PlyProperty('rot_1', 'float'), PlyProperty('rot_2', 'float'), PlyProperty('rot_3', 'float'), PlyProperty('albedo_0', 'float'), PlyProperty('albedo_1', 'float'), PlyProperty('albedo_2', 'float'), PlyProperty('roughness', 'float'), PlyProperty('metallic', 'float')), count=1148, comments=[]),)\n"
     ]
    }
   ],
   "source": [
    "from plyfile import PlyData\n",
    "\n",
    "# Define the file path\n",
    "file_path = \"/home/jiahao/GS-IR/outputs/v1_anchor/horse_blender/point_cloud/iteration_30000/point_cloud.ply\"\n",
    "\n",
    "# Read the .ply file\n",
    "ply_data = PlyData.read(file_path)\n",
    "\n",
    "# Print the elements in the .ply file\n",
    "print(ply_data.elements)"
   ]
  },
  {
   "cell_type": "code",
   "execution_count": 13,
   "metadata": {},
   "outputs": [
    {
     "name": "stdout",
     "output_type": "stream",
     "text": [
      "x.shape: torch.Size([5, 3])\n",
      "x[None].shape: torch.Size([1, 5, 3])\n"
     ]
    },
    {
     "data": {
      "text/plain": [
       "tensor([[[0.5032, 0.1153, 0.1813],\n",
       "         [0.2570, 0.2794, 0.7453],\n",
       "         [0.8272, 0.4759, 0.7369],\n",
       "         [0.6373, 0.0522, 0.3045],\n",
       "         [0.9330, 0.9319, 0.0145]]])"
      ]
     },
     "execution_count": 13,
     "metadata": {},
     "output_type": "execute_result"
    }
   ],
   "source": [
    "import torch\n",
    "x=torch.rand(5, 3)\n",
    "print(\"x.shape:\", x.shape)\n",
    "print(\"x[None].shape:\", x[None].shape)\n",
    "x[None]"
   ]
  },
  {
   "cell_type": "code",
   "execution_count": 4,
   "metadata": {},
   "outputs": [
    {
     "data": {
      "text/plain": [
       "True"
      ]
     },
     "execution_count": 4,
     "metadata": {},
     "output_type": "execute_result"
    }
   ],
   "source": [
    "test_name=\"niujiahao\"\n",
    "test_name.startswith(\"niu\")"
   ]
  },
  {
   "cell_type": "code",
   "execution_count": 5,
   "metadata": {},
   "outputs": [
    {
     "data": {
      "text/plain": [
       "(PlyProperty('x', 'float'),\n",
       " PlyProperty('y', 'float'),\n",
       " PlyProperty('z', 'float'),\n",
       " PlyProperty('nx', 'float'),\n",
       " PlyProperty('ny', 'float'),\n",
       " PlyProperty('nz', 'float'),\n",
       " PlyProperty('f_offset_0', 'float'),\n",
       " PlyProperty('f_offset_1', 'float'),\n",
       " PlyProperty('f_offset_2', 'float'),\n",
       " PlyProperty('f_offset_3', 'float'),\n",
       " PlyProperty('f_offset_4', 'float'),\n",
       " PlyProperty('f_offset_5', 'float'),\n",
       " PlyProperty('f_offset_6', 'float'),\n",
       " PlyProperty('f_offset_7', 'float'),\n",
       " PlyProperty('f_offset_8', 'float'),\n",
       " PlyProperty('f_offset_9', 'float'),\n",
       " PlyProperty('f_offset_10', 'float'),\n",
       " PlyProperty('f_offset_11', 'float'),\n",
       " PlyProperty('f_offset_12', 'float'),\n",
       " PlyProperty('f_offset_13', 'float'),\n",
       " PlyProperty('f_offset_14', 'float'),\n",
       " PlyProperty('f_anchor_feat_0', 'float'),\n",
       " PlyProperty('f_anchor_feat_1', 'float'),\n",
       " PlyProperty('f_anchor_feat_2', 'float'),\n",
       " PlyProperty('f_anchor_feat_3', 'float'),\n",
       " PlyProperty('f_anchor_feat_4', 'float'),\n",
       " PlyProperty('f_anchor_feat_5', 'float'),\n",
       " PlyProperty('f_anchor_feat_6', 'float'),\n",
       " PlyProperty('f_anchor_feat_7', 'float'),\n",
       " PlyProperty('f_anchor_feat_8', 'float'),\n",
       " PlyProperty('f_anchor_feat_9', 'float'),\n",
       " PlyProperty('f_anchor_feat_10', 'float'),\n",
       " PlyProperty('f_anchor_feat_11', 'float'),\n",
       " PlyProperty('f_anchor_feat_12', 'float'),\n",
       " PlyProperty('f_anchor_feat_13', 'float'),\n",
       " PlyProperty('f_anchor_feat_14', 'float'),\n",
       " PlyProperty('f_anchor_feat_15', 'float'),\n",
       " PlyProperty('f_anchor_feat_16', 'float'),\n",
       " PlyProperty('f_anchor_feat_17', 'float'),\n",
       " PlyProperty('f_anchor_feat_18', 'float'),\n",
       " PlyProperty('f_anchor_feat_19', 'float'),\n",
       " PlyProperty('f_anchor_feat_20', 'float'),\n",
       " PlyProperty('f_anchor_feat_21', 'float'),\n",
       " PlyProperty('f_anchor_feat_22', 'float'),\n",
       " PlyProperty('f_anchor_feat_23', 'float'),\n",
       " PlyProperty('f_anchor_feat_24', 'float'),\n",
       " PlyProperty('f_anchor_feat_25', 'float'),\n",
       " PlyProperty('f_anchor_feat_26', 'float'),\n",
       " PlyProperty('f_anchor_feat_27', 'float'),\n",
       " PlyProperty('f_anchor_feat_28', 'float'),\n",
       " PlyProperty('f_anchor_feat_29', 'float'),\n",
       " PlyProperty('f_anchor_feat_30', 'float'),\n",
       " PlyProperty('f_anchor_feat_31', 'float'),\n",
       " PlyProperty('f_anchor_pbr_feat_0', 'float'),\n",
       " PlyProperty('f_anchor_pbr_feat_1', 'float'),\n",
       " PlyProperty('f_anchor_pbr_feat_2', 'float'),\n",
       " PlyProperty('f_anchor_pbr_feat_3', 'float'),\n",
       " PlyProperty('f_anchor_pbr_feat_4', 'float'),\n",
       " PlyProperty('f_anchor_pbr_feat_5', 'float'),\n",
       " PlyProperty('f_anchor_pbr_feat_6', 'float'),\n",
       " PlyProperty('f_anchor_pbr_feat_7', 'float'),\n",
       " PlyProperty('f_anchor_pbr_feat_8', 'float'),\n",
       " PlyProperty('f_anchor_pbr_feat_9', 'float'),\n",
       " PlyProperty('f_anchor_pbr_feat_10', 'float'),\n",
       " PlyProperty('f_anchor_pbr_feat_11', 'float'),\n",
       " PlyProperty('f_anchor_pbr_feat_12', 'float'),\n",
       " PlyProperty('f_anchor_pbr_feat_13', 'float'),\n",
       " PlyProperty('f_anchor_pbr_feat_14', 'float'),\n",
       " PlyProperty('f_anchor_pbr_feat_15', 'float'),\n",
       " PlyProperty('f_anchor_pbr_feat_16', 'float'),\n",
       " PlyProperty('f_anchor_pbr_feat_17', 'float'),\n",
       " PlyProperty('f_anchor_pbr_feat_18', 'float'),\n",
       " PlyProperty('f_anchor_pbr_feat_19', 'float'),\n",
       " PlyProperty('f_anchor_pbr_feat_20', 'float'),\n",
       " PlyProperty('f_anchor_pbr_feat_21', 'float'),\n",
       " PlyProperty('f_anchor_pbr_feat_22', 'float'),\n",
       " PlyProperty('f_anchor_pbr_feat_23', 'float'),\n",
       " PlyProperty('f_anchor_pbr_feat_24', 'float'),\n",
       " PlyProperty('f_anchor_pbr_feat_25', 'float'),\n",
       " PlyProperty('f_anchor_pbr_feat_26', 'float'),\n",
       " PlyProperty('f_anchor_pbr_feat_27', 'float'),\n",
       " PlyProperty('f_anchor_pbr_feat_28', 'float'),\n",
       " PlyProperty('f_anchor_pbr_feat_29', 'float'),\n",
       " PlyProperty('f_anchor_pbr_feat_30', 'float'),\n",
       " PlyProperty('f_anchor_pbr_feat_31', 'float'),\n",
       " PlyProperty('opacity', 'float'),\n",
       " PlyProperty('scale_0', 'float'),\n",
       " PlyProperty('scale_1', 'float'),\n",
       " PlyProperty('scale_2', 'float'),\n",
       " PlyProperty('scale_3', 'float'),\n",
       " PlyProperty('scale_4', 'float'),\n",
       " PlyProperty('scale_5', 'float'),\n",
       " PlyProperty('rot_0', 'float'),\n",
       " PlyProperty('rot_1', 'float'),\n",
       " PlyProperty('rot_2', 'float'),\n",
       " PlyProperty('rot_3', 'float'),\n",
       " PlyProperty('albedo_0', 'float'),\n",
       " PlyProperty('albedo_1', 'float'),\n",
       " PlyProperty('albedo_2', 'float'),\n",
       " PlyProperty('roughness', 'float'),\n",
       " PlyProperty('metallic', 'float'))"
      ]
     },
     "execution_count": 5,
     "metadata": {},
     "output_type": "execute_result"
    }
   ],
   "source": [
    "ply_data.elements[0].properties"
   ]
  },
  {
   "cell_type": "code",
   "execution_count": 6,
   "metadata": {},
   "outputs": [
    {
     "data": {
      "text/plain": [
       "(1148,)"
      ]
     },
     "execution_count": 6,
     "metadata": {},
     "output_type": "execute_result"
    }
   ],
   "source": [
    "ply_data.elements[0][\"x\"].shape"
   ]
  },
  {
   "cell_type": "code",
   "execution_count": 7,
   "metadata": {},
   "outputs": [
    {
     "name": "stdout",
     "output_type": "stream",
     "text": [
      "ply\n",
      "format binary_little_endian 1.0\n",
      "element vertex 1148\n",
      "property float x\n",
      "property float y\n",
      "property float z\n",
      "property float nx\n",
      "property float ny\n",
      "property float nz\n",
      "property float f_offset_0\n",
      "property float f_offset_1\n",
      "property float f_offset_2\n",
      "property float f_offset_3\n",
      "property float f_offset_4\n",
      "property float f_offset_5\n",
      "property float f_offset_6\n",
      "property float f_offset_7\n",
      "property float f_offset_8\n",
      "property float f_offset_9\n",
      "property float f_offset_10\n",
      "property float f_offset_11\n",
      "property float f_offset_12\n",
      "property float f_offset_13\n",
      "property float f_offset_14\n",
      "property float f_anchor_feat_0\n",
      "property float f_anchor_feat_1\n",
      "property float f_anchor_feat_2\n",
      "property float f_anchor_feat_3\n",
      "property float f_anchor_feat_4\n",
      "property float f_anchor_feat_5\n",
      "property float f_anchor_feat_6\n",
      "property float f_anchor_feat_7\n",
      "property float f_anchor_feat_8\n",
      "property float f_anchor_feat_9\n",
      "property float f_anchor_feat_10\n",
      "property float f_anchor_feat_11\n",
      "property float f_anchor_feat_12\n",
      "property float f_anchor_feat_13\n",
      "property float f_anchor_feat_14\n",
      "property float f_anchor_feat_15\n",
      "property float f_anchor_feat_16\n",
      "property float f_anchor_feat_17\n",
      "property float f_anchor_feat_18\n",
      "property float f_anchor_feat_19\n",
      "property float f_anchor_feat_20\n",
      "property float f_anchor_feat_21\n",
      "property float f_anchor_feat_22\n",
      "property float f_anchor_feat_23\n",
      "property float f_anchor_feat_24\n",
      "property float f_anchor_feat_25\n",
      "property float f_anchor_feat_26\n",
      "property float f_anchor_feat_27\n",
      "property float f_anchor_feat_28\n",
      "property float f_anchor_feat_29\n",
      "property float f_anchor_feat_30\n",
      "property float f_anchor_feat_31\n",
      "property float f_anchor_pbr_feat_0\n",
      "property float f_anchor_pbr_feat_1\n",
      "property float f_anchor_pbr_feat_2\n",
      "property float f_anchor_pbr_feat_3\n",
      "property float f_anchor_pbr_feat_4\n",
      "property float f_anchor_pbr_feat_5\n",
      "property float f_anchor_pbr_feat_6\n",
      "property float f_anchor_pbr_feat_7\n",
      "property float f_anchor_pbr_feat_8\n",
      "property float f_anchor_pbr_feat_9\n",
      "property float f_anchor_pbr_feat_10\n",
      "property float f_anchor_pbr_feat_11\n",
      "property float f_anchor_pbr_feat_12\n",
      "property float f_anchor_pbr_feat_13\n",
      "property float f_anchor_pbr_feat_14\n",
      "property float f_anchor_pbr_feat_15\n",
      "property float f_anchor_pbr_feat_16\n",
      "property float f_anchor_pbr_feat_17\n",
      "property float f_anchor_pbr_feat_18\n",
      "property float f_anchor_pbr_feat_19\n",
      "property float f_anchor_pbr_feat_20\n",
      "property float f_anchor_pbr_feat_21\n",
      "property float f_anchor_pbr_feat_22\n",
      "property float f_anchor_pbr_feat_23\n",
      "property float f_anchor_pbr_feat_24\n",
      "property float f_anchor_pbr_feat_25\n",
      "property float f_anchor_pbr_feat_26\n",
      "property float f_anchor_pbr_feat_27\n",
      "property float f_anchor_pbr_feat_28\n",
      "property float f_anchor_pbr_feat_29\n",
      "property float f_anchor_pbr_feat_30\n",
      "property float f_anchor_pbr_feat_31\n",
      "property float opacity\n",
      "property float scale_0\n",
      "property float scale_1\n",
      "property float scale_2\n",
      "property float scale_3\n",
      "property float scale_4\n",
      "property float scale_5\n",
      "property float rot_0\n",
      "property float rot_1\n",
      "property float rot_2\n",
      "property float rot_3\n",
      "property float albedo_0\n",
      "property float albedo_1\n",
      "property float albedo_2\n",
      "property float roughness\n",
      "property float metallic\n",
      "end_header\n"
     ]
    }
   ],
   "source": [
    "print(ply_data)"
   ]
  },
  {
   "cell_type": "code",
   "execution_count": 8,
   "metadata": {},
   "outputs": [
    {
     "name": "stdout",
     "output_type": "stream",
     "text": [
      "x=3, y=5\n"
     ]
    }
   ],
   "source": [
    "x=3\n",
    "y=5\n",
    "print(f\"x={x}, y={y}\")"
   ]
  },
  {
   "cell_type": "code",
   "execution_count": 2,
   "metadata": {},
   "outputs": [
    {
     "name": "stdout",
     "output_type": "stream",
     "text": [
      "Function has been called 1 times\n",
      "Function has been called 2 times\n",
      "Function has been called 3 times\n",
      "Counter is 3\n"
     ]
    }
   ],
   "source": [
    "def my_function():\n",
    "    if not hasattr(my_function, \"counter\"):\n",
    "        my_function.counter = 0  # Initialize the counter attribute\n",
    "    my_function.counter += 1\n",
    "    print(f\"Function has been called {my_function.counter} times\")\n",
    "    if(my_function.counter==3):\n",
    "        print(\"Counter is 3\")\n",
    "\n",
    "# Example usage\n",
    "my_function()\n",
    "my_function()\n",
    "my_function()"
   ]
  },
  {
   "cell_type": "code",
   "execution_count": null,
   "metadata": {},
   "outputs": [],
   "source": []
  }
 ],
 "metadata": {
  "kernelspec": {
   "display_name": "gsir",
   "language": "python",
   "name": "python3"
  },
  "language_info": {
   "codemirror_mode": {
    "name": "ipython",
    "version": 3
   },
   "file_extension": ".py",
   "mimetype": "text/x-python",
   "name": "python",
   "nbconvert_exporter": "python",
   "pygments_lexer": "ipython3",
   "version": "3.9.21"
  }
 },
 "nbformat": 4,
 "nbformat_minor": 2
}
